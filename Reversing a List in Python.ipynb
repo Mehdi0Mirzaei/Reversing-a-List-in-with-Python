{
 "cells": [
  {
   "cell_type": "code",
   "execution_count": 31,
   "id": "b42694cf",
   "metadata": {},
   "outputs": [],
   "source": [
    "def reverse_list(lst):\n",
    "    return lst[::-1]"
   ]
  },
  {
   "cell_type": "code",
   "execution_count": 32,
   "id": "ecb4f4f8",
   "metadata": {},
   "outputs": [
    {
     "data": {
      "text/plain": [
       "[7, 6, 5, 4, 3, 2, 1]"
      ]
     },
     "execution_count": 32,
     "metadata": {},
     "output_type": "execute_result"
    }
   ],
   "source": [
    "reverse_list([1,2,3,4,5,6,7])"
   ]
  },
  {
   "cell_type": "code",
   "execution_count": 33,
   "id": "3655a7ae",
   "metadata": {},
   "outputs": [],
   "source": [
    "def list_reverse(arr,size):\n",
    " #if only one element present, then return the array\n",
    "    if(size==1):\n",
    "        return arr\n",
    "     \n",
    "    #if only two elements present, then swap both the numbers.\n",
    "    elif(size==2):\n",
    "        arr[0],arr[1],=arr[1],arr[0]\n",
    "        return arr\n",
    "     \n",
    "    #if more than two elements presents, then swap first and last numbers.\n",
    "    else:\n",
    "        i=0\n",
    "        while(i<size//2):\n",
    " #swap present and preceding numbers at time and jump to second element after swap\n",
    "            arr[i],arr[size-i-1]=arr[size-i-1],arr[i]\n",
    "       #skip if present and preceding numbers indexes are same\n",
    "            if((i!=i+1 and size-i-1 != size-i-2) and (i!=size-i-2 and size-i-1!=i+1)):\n",
    "                arr[i+1],arr[size-i-2]=arr[size-i-2],arr[i+1]\n",
    "            i+=2\n",
    "        return arr"
   ]
  },
  {
   "cell_type": "code",
   "execution_count": 35,
   "id": "3524bcd4",
   "metadata": {},
   "outputs": [
    {
     "data": {
      "text/plain": [
       "[7, 6, 5, 4, 3, 2, 1]"
      ]
     },
     "execution_count": 35,
     "metadata": {},
     "output_type": "execute_result"
    }
   ],
   "source": [
    "list_reverse([1,2,3,4,5,6,7],7)"
   ]
  },
  {
   "cell_type": "code",
   "execution_count": 36,
   "id": "5c1bb00a",
   "metadata": {},
   "outputs": [
    {
     "name": "stdout",
     "output_type": "stream",
     "text": [
      "Using reverse()  [7, 6, 5, 4, 3, 2, 1]\n",
      "Using reversed()  [1, 2, 3, 4, 5, 6, 7]\n"
     ]
    }
   ],
   "source": [
    "lst = [1,2,3,4,5,6,7]\n",
    "lst.reverse()\n",
    "print(\"Using reverse() \", lst)\n",
    " \n",
    "print(\"Using reversed() \", list(reversed(lst)))"
   ]
  },
  {
   "cell_type": "code",
   "execution_count": 38,
   "id": "7020b80c",
   "metadata": {},
   "outputs": [],
   "source": [
    "def reverse_list2(arr):\n",
    "    left = 0\n",
    "    right = len(arr)-1\n",
    "    while (left < right):\n",
    "        # Swap\n",
    "        temp = arr[left]\n",
    "        arr[left] = arr[right]\n",
    "        arr[right] = temp\n",
    "        left += 1\n",
    "        right -= 1\n",
    "    return arr"
   ]
  },
  {
   "cell_type": "code",
   "execution_count": 39,
   "id": "5157235e",
   "metadata": {},
   "outputs": [
    {
     "data": {
      "text/plain": [
       "[7, 6, 5, 4, 3, 2, 1]"
      ]
     },
     "execution_count": 39,
     "metadata": {},
     "output_type": "execute_result"
    }
   ],
   "source": [
    "reverse_list2([1, 2, 3, 4, 5, 6, 7])"
   ]
  },
  {
   "cell_type": "code",
   "execution_count": 41,
   "id": "a0a05933",
   "metadata": {},
   "outputs": [
    {
     "name": "stdout",
     "output_type": "stream",
     "text": [
      "[7, 6, 5, 4, 3, 2, 1]\n"
     ]
    }
   ],
   "source": [
    "original_list =  [1, 2, 3, 4, 5, 6, 7]\n",
    "new_list = [original_list[len(original_list) - i]\n",
    "            for i in range(1, len(original_list)+1)]\n",
    "print(new_list)"
   ]
  },
  {
   "cell_type": "code",
   "execution_count": 42,
   "id": "3548b268",
   "metadata": {},
   "outputs": [
    {
     "name": "stdout",
     "output_type": "stream",
     "text": [
      "[7, 6, 5, 4, 3, 2, 1]\n"
     ]
    }
   ],
   "source": [
    "import numpy as np\n",
    " \n",
    "# Input list\n",
    "my_list = [1, 2, 3, 4, 5, 6, 7]\n",
    " \n",
    "# Convert the list to a 1D numpy array\n",
    "my_array = np.array(my_list)\n",
    " \n",
    "# Reverse the order of the array\n",
    "reversed_array = my_array[::-1]\n",
    " \n",
    "# Convert the reversed array to a list\n",
    "reversed_list = reversed_array.tolist()\n",
    " \n",
    "# Print the reversed list\n",
    "print(reversed_list)"
   ]
  },
  {
   "cell_type": "code",
   "execution_count": null,
   "id": "4f6e012a",
   "metadata": {},
   "outputs": [],
   "source": []
  }
 ],
 "metadata": {
  "kernelspec": {
   "display_name": "Python 3 (ipykernel)",
   "language": "python",
   "name": "python3"
  },
  "language_info": {
   "codemirror_mode": {
    "name": "ipython",
    "version": 3
   },
   "file_extension": ".py",
   "mimetype": "text/x-python",
   "name": "python",
   "nbconvert_exporter": "python",
   "pygments_lexer": "ipython3",
   "version": "3.9.13"
  }
 },
 "nbformat": 4,
 "nbformat_minor": 5
}
